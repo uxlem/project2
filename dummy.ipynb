{
 "cells": [
  {
   "cell_type": "code",
   "execution_count": 1,
   "id": "ab367b74",
   "metadata": {},
   "outputs": [
    {
     "name": "stderr",
     "output_type": "stream",
     "text": [
      "/home/yoru/project2/.venv/lib/python3.12/site-packages/vnai/scope/profile.py:742: UserWarning: pkg_resources is deprecated as an API. See https://setuptools.pypa.io/en/latest/pkg_resources.html. The pkg_resources package is slated for removal as early as 2025-11-30. Refrain from using this package or pin to Setuptools<81.\n",
      "  import pkg_resources\n"
     ]
    },
    {
     "data": {
      "text/html": [
       "<!DOCTYPE html>\n",
       "<html>\n",
       "<head>\n",
       "    <meta charset=\"UTF-8\">\n",
       "    <meta name=\"viewport\" content=\"width=device-width, initial-scale=1.0\">\n",
       "    <link href=\"https://fonts.googleapis.com/css2?family=Lexend:wght@400;500;600;700&display=swap\" rel=\"stylesheet\">\n",
       "    <style>\n",
       "        .vnstock-ad-banner {\n",
       "            all: initial;\n",
       "            font-family: 'Lexend', sans-serif;\n",
       "            display: flex;\n",
       "            flex-wrap: wrap;\n",
       "            max-width: 100%;\n",
       "            margin: 12px 0;\n",
       "            border-radius: 10px;\n",
       "            overflow: hidden;\n",
       "            background: #ffffff;\n",
       "            box-shadow: 0 4px 12px rgba(0,0,0,0.08);\n",
       "            color: #333;\n",
       "        }\n",
       "\n",
       "        .vnstock-ad-content {\n",
       "            flex: 1;\n",
       "            padding: 12px 16px;\n",
       "            display: flex;\n",
       "            flex-direction: column;\n",
       "            justify-content: center;\n",
       "        }\n",
       "\n",
       "        .vnstock-ad-title {\n",
       "            margin: 0 0 10px 0;\n",
       "            line-height: 1.3;\n",
       "            font-size: 18px;\n",
       "            font-weight: 700;\n",
       "            color: #4CAF50;\n",
       "        }\n",
       "\n",
       "        .title-highlight {\n",
       "            color: #8C52FF;\n",
       "        }\n",
       "\n",
       "        .vnstock-ad-features {\n",
       "            list-style: none;\n",
       "            padding-left: 0;\n",
       "            margin: 10px 0 12px 0;\n",
       "            font-size: 13px;\n",
       "            line-height: 1.4;\n",
       "        }\n",
       "\n",
       "        .vnstock-ad-features li {\n",
       "            margin-bottom: 6px;\n",
       "        }\n",
       "\n",
       "        .feature-highlight {\n",
       "            color: #8C52FF;\n",
       "            font-weight: 600;\n",
       "        }\n",
       "\n",
       "        .button-container {\n",
       "            text-align: center;\n",
       "        }\n",
       "\n",
       "        .vnstock-ad-button {\n",
       "            display: inline-block;\n",
       "            background-color: #4CAF50;\n",
       "            color: #fff;\n",
       "            padding: 6px 16px;\n",
       "            text-decoration: none;\n",
       "            font-size: 13px;\n",
       "            border-radius: 20px;\n",
       "            font-weight: 600;\n",
       "            transition: all 0.2s;\n",
       "            box-shadow: 0 2px 6px rgba(76, 175, 80, 0.2);\n",
       "        }\n",
       "\n",
       "        .vnstock-ad-button:hover {\n",
       "            background-color: #8C52FF;\n",
       "            color: white;\n",
       "            transform: translateY(-1px);\n",
       "            box-shadow: 0 4px 8px rgba(140, 82, 255, 0.3);\n",
       "        }\n",
       "\n",
       "        .vnstock-ad-image {\n",
       "            flex: 1;\n",
       "            min-width: 180px;\n",
       "            max-width: 45%;\n",
       "        }\n",
       "\n",
       "        .vnstock-ad-image img {\n",
       "            width: 100%;\n",
       "            height: 100%;\n",
       "            max-height: 250px;\n",
       "            object-fit: cover;\n",
       "            display: block;\n",
       "        }\n",
       "\n",
       "        @media (max-width: 768px) {\n",
       "            .vnstock-ad-banner {\n",
       "                flex-direction: column;\n",
       "            }\n",
       "            \n",
       "            .vnstock-ad-image {\n",
       "                min-width: auto;\n",
       "                max-width: 100%;\n",
       "            }\n",
       "        }\n",
       "    </style>\n",
       "</head>\n",
       "<body>\n",
       "    <div class=\"vnstock-ad-banner\">\n",
       "        <div class=\"vnstock-ad-content\">\n",
       "            <h2 class=\"vnstock-ad-title\">\n",
       "                <span class=\"title-highlight\">🤖 Python Coding với AI:</span> Phân Tích Dữ liệu & Bot Chứng Khoán K11\n",
       "            </h2>\n",
       "            <ul class=\"vnstock-ad-features\">\n",
       "                <li><span class=\"feature-highlight\">⚡ Điều khiển AI viết code Python:</span> Không cần thuộc lòng cú pháp, học cách dùng AI agent</li>\n",
       "                <li><span class=\"feature-highlight\">🎯 Từ ý tưởng đến sản phẩm:</span> 15+ bot & chương trình thực tế hoàn chỉnh trong 10 buổi học</li>\n",
       "                <li><span class=\"feature-highlight\">🚀 Giáo trình mới tập trung vào AI:</span> Áp dụng cách tiếp cận AI thực chiến từ 15/6/2025. Truy cập trước nội dung khóa 10 ngay khi đăng ký.</li>\n",
       "                <li><span class=\"feature-highlight\">💡 Cộng đồng chất lượng cao:</span> 100+ nhà đầu tư, chuyên gia & lập trình viên cùng học hỏi</li>\n",
       "            </ul>\n",
       "            <div class=\"button-container\">\n",
       "                <a href=\"https://vnstocks.com/lp-khoa-hoc-python-chung-khoan\" class=\"vnstock-ad-button\">\n",
       "                    Đăng ký ngay ›\n",
       "                </a>\n",
       "            </div>\n",
       "        </div>\n",
       "        <a href=\"https://vnstocks.com/lp-khoa-hoc-python-chung-khoan\" class=\"vnstock-ad-image\">\n",
       "            <img src=\"https://vnstocks.com/img/cta-python-chung-khoan-k11-start-now.jpg\" alt=\"Khóa học Python Coding với AI\" style=\"width: 100%; height: 100%; max-height: 250px; object-fit: cover; display: block;\">\n",
       "        </a>\n",
       "    </div>\n",
       "</body>\n",
       "</html>"
      ],
      "text/plain": [
       "<IPython.core.display.HTML object>"
      ]
     },
     "metadata": {},
     "output_type": "display_data"
    }
   ],
   "source": [
    "from vnstock import Vnstock\n",
    "import pandas as pd\n",
    "import strat_v4 as strat\n"
   ]
  },
  {
   "cell_type": "code",
   "execution_count": 2,
   "id": "232b748c",
   "metadata": {},
   "outputs": [
    {
     "name": "stderr",
     "output_type": "stream",
     "text": [
      "2025-06-22 10:19:31 - vnstock.common.vnstock - INFO - Mã chứng khoán không được chỉ định, chương trình mặc định sử dụng VN30F1M\n",
      "2025-06-22 10:19:31 - vnstock.common.data.data_explorer - INFO - Không phải là mã chứng khoán, thông tin công ty và tài chính không khả dụng.\n"
     ]
    },
    {
     "data": {
      "application/vnd.microsoft.datawrangler.viewer.v0+json": {
       "columns": [
        {
         "name": "index",
         "rawType": "int64",
         "type": "integer"
        },
        {
         "name": "symbol",
         "rawType": "object",
         "type": "string"
        }
       ],
       "ref": "a16fcee1-c400-47a1-b064-e924520eba51",
       "rows": [
        [
         "0",
         "ACB"
        ],
        [
         "1",
         "BCM"
        ],
        [
         "2",
         "BID"
        ],
        [
         "3",
         "BVH"
        ],
        [
         "4",
         "CTG"
        ],
        [
         "5",
         "FPT"
        ],
        [
         "6",
         "GAS"
        ],
        [
         "7",
         "GVR"
        ],
        [
         "8",
         "HDB"
        ],
        [
         "9",
         "HPG"
        ],
        [
         "10",
         "LPB"
        ],
        [
         "11",
         "MBB"
        ],
        [
         "12",
         "MSN"
        ],
        [
         "13",
         "MWG"
        ],
        [
         "14",
         "PLX"
        ],
        [
         "15",
         "SAB"
        ],
        [
         "16",
         "SHB"
        ],
        [
         "17",
         "SSB"
        ],
        [
         "18",
         "SSI"
        ],
        [
         "19",
         "STB"
        ],
        [
         "20",
         "TCB"
        ],
        [
         "21",
         "TPB"
        ],
        [
         "22",
         "VCB"
        ],
        [
         "23",
         "VHM"
        ],
        [
         "24",
         "VIB"
        ],
        [
         "25",
         "VIC"
        ],
        [
         "26",
         "VJC"
        ],
        [
         "27",
         "VNM"
        ],
        [
         "28",
         "VPB"
        ],
        [
         "29",
         "VRE"
        ]
       ],
       "shape": {
        "columns": 1,
        "rows": 30
       }
      },
      "text/plain": [
       "0     ACB\n",
       "1     BCM\n",
       "2     BID\n",
       "3     BVH\n",
       "4     CTG\n",
       "5     FPT\n",
       "6     GAS\n",
       "7     GVR\n",
       "8     HDB\n",
       "9     HPG\n",
       "10    LPB\n",
       "11    MBB\n",
       "12    MSN\n",
       "13    MWG\n",
       "14    PLX\n",
       "15    SAB\n",
       "16    SHB\n",
       "17    SSB\n",
       "18    SSI\n",
       "19    STB\n",
       "20    TCB\n",
       "21    TPB\n",
       "22    VCB\n",
       "23    VHM\n",
       "24    VIB\n",
       "25    VIC\n",
       "26    VJC\n",
       "27    VNM\n",
       "28    VPB\n",
       "29    VRE\n",
       "Name: symbol, dtype: object"
      ]
     },
     "execution_count": 2,
     "metadata": {},
     "output_type": "execute_result"
    }
   ],
   "source": [
    "stock = Vnstock().stock()\n",
    "stock.listing.symbols_by_group(\"VN30\")"
   ]
  },
  {
   "cell_type": "code",
   "execution_count": 5,
   "id": "328f4148",
   "metadata": {},
   "outputs": [],
   "source": [
    "df = stock.quote.history(symbol='VNINDEX', start='2006-01-01', end='2025-01-01')\n",
    "# df['time'] = pd.DatetimeIndex(df['time'])\n",
    "df.to_csv(\"VNINDEX.csv\", index=False)"
   ]
  }
 ],
 "metadata": {
  "kernelspec": {
   "display_name": ".venv",
   "language": "python",
   "name": "python3"
  },
  "language_info": {
   "codemirror_mode": {
    "name": "ipython",
    "version": 3
   },
   "file_extension": ".py",
   "mimetype": "text/x-python",
   "name": "python",
   "nbconvert_exporter": "python",
   "pygments_lexer": "ipython3",
   "version": "3.12.3"
  }
 },
 "nbformat": 4,
 "nbformat_minor": 5
}
